{
 "cells": [
  {
   "cell_type": "code",
   "execution_count": null,
   "id": "5c89c86d",
   "metadata": {},
   "outputs": [
    {
     "name": "stdout",
     "output_type": "stream",
     "text": [
      "Requirement already satisfied: langgraph in ./guardiao/lib/python3.12/site-packages (0.3.34)\n",
      "Requirement already satisfied: langsmith in ./guardiao/lib/python3.12/site-packages (0.3.37)\n",
      "Requirement already satisfied: langchain_anthropic in ./guardiao/lib/python3.12/site-packages (0.3.12)\n",
      "Collecting Flask\n",
      "  Using cached flask-3.1.0-py3-none-any.whl.metadata (2.7 kB)\n",
      "Collecting twilio\n",
      "  Downloading twilio-9.5.2-py2.py3-none-any.whl.metadata (12 kB)\n",
      "Requirement already satisfied: langchain-core<0.4,>=0.1 in ./guardiao/lib/python3.12/site-packages (from langgraph) (0.3.56)\n",
      "Requirement already satisfied: langgraph-checkpoint<3.0.0,>=2.0.10 in ./guardiao/lib/python3.12/site-packages (from langgraph) (2.0.24)\n",
      "Requirement already satisfied: langgraph-prebuilt<0.2,>=0.1.8 in ./guardiao/lib/python3.12/site-packages (from langgraph) (0.1.8)\n",
      "Requirement already satisfied: langgraph-sdk<0.2.0,>=0.1.42 in ./guardiao/lib/python3.12/site-packages (from langgraph) (0.1.63)\n",
      "Requirement already satisfied: xxhash<4.0.0,>=3.5.0 in ./guardiao/lib/python3.12/site-packages (from langgraph) (3.5.0)\n",
      "Requirement already satisfied: httpx<1,>=0.23.0 in ./guardiao/lib/python3.12/site-packages (from langsmith) (0.28.1)\n",
      "Requirement already satisfied: orjson<4.0.0,>=3.9.14 in ./guardiao/lib/python3.12/site-packages (from langsmith) (3.10.16)\n",
      "Requirement already satisfied: packaging>=23.2 in ./guardiao/lib/python3.12/site-packages (from langsmith) (24.2)\n",
      "Requirement already satisfied: pydantic<3,>=1 in ./guardiao/lib/python3.12/site-packages (from langsmith) (2.11.3)\n",
      "Requirement already satisfied: requests<3,>=2 in ./guardiao/lib/python3.12/site-packages (from langsmith) (2.32.3)\n",
      "Requirement already satisfied: requests-toolbelt<2.0.0,>=1.0.0 in ./guardiao/lib/python3.12/site-packages (from langsmith) (1.0.0)\n",
      "Requirement already satisfied: zstandard<0.24.0,>=0.23.0 in ./guardiao/lib/python3.12/site-packages (from langsmith) (0.23.0)\n",
      "Requirement already satisfied: anthropic<1,>=0.49.0 in ./guardiao/lib/python3.12/site-packages (from langchain_anthropic) (0.50.0)\n",
      "Collecting Werkzeug>=3.1 (from Flask)\n",
      "  Using cached werkzeug-3.1.3-py3-none-any.whl.metadata (3.7 kB)\n",
      "Collecting Jinja2>=3.1.2 (from Flask)\n",
      "  Using cached jinja2-3.1.6-py3-none-any.whl.metadata (2.9 kB)\n",
      "Collecting itsdangerous>=2.2 (from Flask)\n",
      "  Using cached itsdangerous-2.2.0-py3-none-any.whl.metadata (1.9 kB)\n",
      "Collecting click>=8.1.3 (from Flask)\n",
      "  Using cached click-8.1.8-py3-none-any.whl.metadata (2.3 kB)\n",
      "Collecting blinker>=1.9 (from Flask)\n",
      "  Using cached blinker-1.9.0-py3-none-any.whl.metadata (1.6 kB)\n",
      "Collecting PyJWT<3.0.0,>=2.0.0 (from twilio)\n",
      "  Using cached PyJWT-2.10.1-py3-none-any.whl.metadata (4.0 kB)\n",
      "Collecting aiohttp>=3.8.4 (from twilio)\n",
      "  Downloading aiohttp-3.11.18-cp312-cp312-manylinux_2_17_x86_64.manylinux2014_x86_64.whl.metadata (7.7 kB)\n",
      "Collecting aiohttp-retry>=2.8.3 (from twilio)\n",
      "  Downloading aiohttp_retry-2.9.1-py3-none-any.whl.metadata (8.8 kB)\n",
      "Collecting aiohappyeyeballs>=2.3.0 (from aiohttp>=3.8.4->twilio)\n",
      "  Downloading aiohappyeyeballs-2.6.1-py3-none-any.whl.metadata (5.9 kB)\n",
      "Collecting aiosignal>=1.1.2 (from aiohttp>=3.8.4->twilio)\n",
      "  Downloading aiosignal-1.3.2-py2.py3-none-any.whl.metadata (3.8 kB)\n",
      "Collecting attrs>=17.3.0 (from aiohttp>=3.8.4->twilio)\n",
      "  Downloading attrs-25.3.0-py3-none-any.whl.metadata (10 kB)\n",
      "Collecting frozenlist>=1.1.1 (from aiohttp>=3.8.4->twilio)\n",
      "  Downloading frozenlist-1.6.0-cp312-cp312-manylinux_2_5_x86_64.manylinux1_x86_64.manylinux_2_17_x86_64.manylinux2014_x86_64.whl.metadata (16 kB)\n",
      "Collecting multidict<7.0,>=4.5 (from aiohttp>=3.8.4->twilio)\n",
      "  Downloading multidict-6.4.3-cp312-cp312-manylinux_2_17_x86_64.manylinux2014_x86_64.whl.metadata (5.3 kB)\n",
      "Collecting propcache>=0.2.0 (from aiohttp>=3.8.4->twilio)\n",
      "  Downloading propcache-0.3.1-cp312-cp312-manylinux_2_17_x86_64.manylinux2014_x86_64.whl.metadata (10 kB)\n",
      "Collecting yarl<2.0,>=1.17.0 (from aiohttp>=3.8.4->twilio)\n",
      "  Downloading yarl-1.20.0-cp312-cp312-manylinux_2_17_x86_64.manylinux2014_x86_64.whl.metadata (72 kB)\n",
      "\u001b[2K     \u001b[90m━━━━━━━━━━━━━━━━━━━━━━━━━━━━━━━━━━━━━━━━\u001b[0m \u001b[32m72.4/72.4 kB\u001b[0m \u001b[31m1.6 MB/s\u001b[0m eta \u001b[36m0:00:00\u001b[0m00:01\u001b[0m\n",
      "\u001b[?25hRequirement already satisfied: anyio<5,>=3.5.0 in ./guardiao/lib/python3.12/site-packages (from anthropic<1,>=0.49.0->langchain_anthropic) (4.9.0)\n",
      "Requirement already satisfied: distro<2,>=1.7.0 in ./guardiao/lib/python3.12/site-packages (from anthropic<1,>=0.49.0->langchain_anthropic) (1.9.0)\n",
      "Requirement already satisfied: jiter<1,>=0.4.0 in ./guardiao/lib/python3.12/site-packages (from anthropic<1,>=0.49.0->langchain_anthropic) (0.9.0)\n",
      "Requirement already satisfied: sniffio in ./guardiao/lib/python3.12/site-packages (from anthropic<1,>=0.49.0->langchain_anthropic) (1.3.1)\n",
      "Requirement already satisfied: typing-extensions<5,>=4.10 in ./guardiao/lib/python3.12/site-packages (from anthropic<1,>=0.49.0->langchain_anthropic) (4.13.2)\n",
      "Requirement already satisfied: certifi in ./guardiao/lib/python3.12/site-packages (from httpx<1,>=0.23.0->langsmith) (2025.4.26)\n",
      "Requirement already satisfied: httpcore==1.* in ./guardiao/lib/python3.12/site-packages (from httpx<1,>=0.23.0->langsmith) (1.0.9)\n",
      "Requirement already satisfied: idna in ./guardiao/lib/python3.12/site-packages (from httpx<1,>=0.23.0->langsmith) (3.10)\n",
      "Requirement already satisfied: h11>=0.16 in ./guardiao/lib/python3.12/site-packages (from httpcore==1.*->httpx<1,>=0.23.0->langsmith) (0.16.0)\n",
      "Collecting MarkupSafe>=2.0 (from Jinja2>=3.1.2->Flask)\n",
      "  Using cached MarkupSafe-3.0.2-cp312-cp312-manylinux_2_17_x86_64.manylinux2014_x86_64.whl.metadata (4.0 kB)\n",
      "Requirement already satisfied: tenacity!=8.4.0,<10.0.0,>=8.1.0 in ./guardiao/lib/python3.12/site-packages (from langchain-core<0.4,>=0.1->langgraph) (9.1.2)\n",
      "Requirement already satisfied: jsonpatch<2.0,>=1.33 in ./guardiao/lib/python3.12/site-packages (from langchain-core<0.4,>=0.1->langgraph) (1.33)\n",
      "Requirement already satisfied: PyYAML>=5.3 in ./guardiao/lib/python3.12/site-packages (from langchain-core<0.4,>=0.1->langgraph) (6.0.2)\n",
      "Requirement already satisfied: ormsgpack<2.0.0,>=1.8.0 in ./guardiao/lib/python3.12/site-packages (from langgraph-checkpoint<3.0.0,>=2.0.10->langgraph) (1.9.1)\n",
      "Requirement already satisfied: annotated-types>=0.6.0 in ./guardiao/lib/python3.12/site-packages (from pydantic<3,>=1->langsmith) (0.7.0)\n",
      "Requirement already satisfied: pydantic-core==2.33.1 in ./guardiao/lib/python3.12/site-packages (from pydantic<3,>=1->langsmith) (2.33.1)\n",
      "Requirement already satisfied: typing-inspection>=0.4.0 in ./guardiao/lib/python3.12/site-packages (from pydantic<3,>=1->langsmith) (0.4.0)\n",
      "Requirement already satisfied: charset-normalizer<4,>=2 in ./guardiao/lib/python3.12/site-packages (from requests<3,>=2->langsmith) (3.4.1)\n",
      "Requirement already satisfied: urllib3<3,>=1.21.1 in ./guardiao/lib/python3.12/site-packages (from requests<3,>=2->langsmith) (2.4.0)\n",
      "Requirement already satisfied: jsonpointer>=1.9 in ./guardiao/lib/python3.12/site-packages (from jsonpatch<2.0,>=1.33->langchain-core<0.4,>=0.1->langgraph) (3.0.0)\n",
      "Using cached flask-3.1.0-py3-none-any.whl (102 kB)\n",
      "Downloading twilio-9.5.2-py2.py3-none-any.whl (1.9 MB)\n",
      "\u001b[2K   \u001b[90m━━━━━━━━━━━━━━━━━━━━━━━━━━━━━━━━━━━━━━━━\u001b[0m \u001b[32m1.9/1.9 MB\u001b[0m \u001b[31m9.7 MB/s\u001b[0m eta \u001b[36m0:00:00\u001b[0m:00:01\u001b[0m00:01\u001b[0m\n",
      "\u001b[?25hDownloading aiohttp-3.11.18-cp312-cp312-manylinux_2_17_x86_64.manylinux2014_x86_64.whl (1.7 MB)\n",
      "\u001b[2K   \u001b[90m━━━━━━━━━━━━━━━━━━━━━━━━━━━━━━━━━━━━━━━━\u001b[0m \u001b[32m1.7/1.7 MB\u001b[0m \u001b[31m8.7 MB/s\u001b[0m eta \u001b[36m0:00:00\u001b[0m:00:01\u001b[0m00:01\u001b[0m\n",
      "\u001b[?25hDownloading aiohttp_retry-2.9.1-py3-none-any.whl (10.0 kB)\n",
      "Using cached blinker-1.9.0-py3-none-any.whl (8.5 kB)\n",
      "Using cached click-8.1.8-py3-none-any.whl (98 kB)\n",
      "Using cached itsdangerous-2.2.0-py3-none-any.whl (16 kB)\n",
      "Using cached jinja2-3.1.6-py3-none-any.whl (134 kB)\n",
      "Using cached PyJWT-2.10.1-py3-none-any.whl (22 kB)\n",
      "Using cached werkzeug-3.1.3-py3-none-any.whl (224 kB)\n",
      "Downloading aiohappyeyeballs-2.6.1-py3-none-any.whl (15 kB)\n",
      "Downloading aiosignal-1.3.2-py2.py3-none-any.whl (7.6 kB)\n",
      "Downloading attrs-25.3.0-py3-none-any.whl (63 kB)\n",
      "\u001b[2K   \u001b[90m━━━━━━━━━━━━━━━━━━━━━━━━━━━━━━━━━━━━━━━━\u001b[0m \u001b[32m63.8/63.8 kB\u001b[0m \u001b[31m1.8 MB/s\u001b[0m eta \u001b[36m0:00:00\u001b[0m\n",
      "\u001b[?25hDownloading frozenlist-1.6.0-cp312-cp312-manylinux_2_5_x86_64.manylinux1_x86_64.manylinux_2_17_x86_64.manylinux2014_x86_64.whl (316 kB)\n",
      "\u001b[2K   \u001b[90m━━━━━━━━━━━━━━━━━━━━━━━━━━━━━━━━━━━━━━━━\u001b[0m \u001b[32m316.2/316.2 kB\u001b[0m \u001b[31m5.6 MB/s\u001b[0m eta \u001b[36m0:00:00\u001b[0mta \u001b[36m0:00:01\u001b[0m\n",
      "\u001b[?25hUsing cached MarkupSafe-3.0.2-cp312-cp312-manylinux_2_17_x86_64.manylinux2014_x86_64.whl (23 kB)\n",
      "Downloading multidict-6.4.3-cp312-cp312-manylinux_2_17_x86_64.manylinux2014_x86_64.whl (223 kB)\n",
      "\u001b[2K   \u001b[90m━━━━━━━━━━━━━━━━━━━━━━━━━━━━━━━━━━━━━━━━\u001b[0m \u001b[32m223.5/223.5 kB\u001b[0m \u001b[31m4.3 MB/s\u001b[0m eta \u001b[36m0:00:00\u001b[0mta \u001b[36m0:00:01\u001b[0m\n",
      "\u001b[?25hDownloading propcache-0.3.1-cp312-cp312-manylinux_2_17_x86_64.manylinux2014_x86_64.whl (245 kB)\n",
      "\u001b[2K   \u001b[90m━━━━━━━━━━━━━━━━━━━━━━━━━━━━━━━━━━━━━━━━\u001b[0m \u001b[32m245.0/245.0 kB\u001b[0m \u001b[31m4.0 MB/s\u001b[0m eta \u001b[36m0:00:00\u001b[0mta \u001b[36m0:00:01\u001b[0m\n",
      "\u001b[?25hDownloading yarl-1.20.0-cp312-cp312-manylinux_2_17_x86_64.manylinux2014_x86_64.whl (349 kB)\n",
      "\u001b[2K   \u001b[90m━━━━━━━━━━━━━━━━━━━━━━━━━━━━━━━━━━━━━━━━\u001b[0m \u001b[32m349.2/349.2 kB\u001b[0m \u001b[31m6.2 MB/s\u001b[0m eta \u001b[36m0:00:00\u001b[0m:00:01\u001b[0m\n",
      "\u001b[?25hInstalling collected packages: PyJWT, propcache, multidict, MarkupSafe, itsdangerous, frozenlist, click, blinker, attrs, aiohappyeyeballs, yarl, Werkzeug, Jinja2, aiosignal, Flask, aiohttp, aiohttp-retry, twilio\n",
      "Successfully installed Flask-3.1.0 Jinja2-3.1.6 MarkupSafe-3.0.2 PyJWT-2.10.1 Werkzeug-3.1.3 aiohappyeyeballs-2.6.1 aiohttp-3.11.18 aiohttp-retry-2.9.1 aiosignal-1.3.2 attrs-25.3.0 blinker-1.9.0 click-8.1.8 frozenlist-1.6.0 itsdangerous-2.2.0 multidict-6.4.3 propcache-0.3.1 twilio-9.5.2 yarl-1.20.0\n",
      "Note: you may need to restart the kernel to use updated packages.\n"
     ]
    }
   ],
   "source": [
    "# Instalação das bibliotecas\n",
    "%pip install -U langgraph langsmith langchain_anthropic"
   ]
  },
  {
   "cell_type": "code",
   "execution_count": null,
   "id": "2d9ad8f8",
   "metadata": {},
   "outputs": [
    {
     "name": "stdout",
     "output_type": "stream",
     "text": [
      "Note: you may need to restart the kernel to use updated packages.\n"
     ]
    }
   ],
   "source": [
    "# Disponibilizar dependências\n",
    "pip freeze > requirements.txt"
   ]
  },
  {
   "cell_type": "code",
   "execution_count": 9,
   "id": "ffac9d66",
   "metadata": {},
   "outputs": [
    {
     "name": "stderr",
     "output_type": "stream",
     "text": [
      "\u001b[33m * Tip: There are .env files present. Install python-dotenv to use them.\u001b[0m\n"
     ]
    },
    {
     "name": "stdout",
     "output_type": "stream",
     "text": [
      " * Serving Flask app '__main__'\n",
      " * Debug mode: off\n"
     ]
    },
    {
     "name": "stderr",
     "output_type": "stream",
     "text": [
      "\u001b[31m\u001b[1mWARNING: This is a development server. Do not use it in a production deployment. Use a production WSGI server instead.\u001b[0m\n",
      " * Running on http://127.0.0.1:5000\n",
      "\u001b[33mPress CTRL+C to quit\u001b[0m\n",
      "127.0.0.1 - - [26/Apr/2025 15:53:54] \"GET / HTTP/1.1\" 200 -\n"
     ]
    }
   ],
   "source": [
    "from flask import Flask\n",
    "app = Flask(__name__)\n",
    "\n",
    "@app.route(\"/\")\n",
    "def hello():\n",
    "  return \"Hello World!\"\n",
    "\n",
    "if __name__ == \"__main__\":\n",
    "  app.run()"
   ]
  },
  {
   "cell_type": "code",
   "execution_count": null,
   "id": "ac6f66c5",
   "metadata": {},
   "outputs": [],
   "source": [
    "# Inicialização do ambiente\n",
    "from langgraph.graph import StateGraph, END\n",
    "from typing import TypedDict, Optional\n",
    "import random\n",
    "\n",
    "# Definição do estado\n",
    "class GuardiaoState(TypedDict):\n",
    "    media = Optional[bytes]\n",
    "    tipo = Optional[str]\n",
    "    resultado_analise = Optional[dict]\n",
    "    indice_confiabilidade = Optional[int]\n",
    "    resposta = Optional[str]\n",
    "\n",
    "# Função dos nós\n",
    "def receber_input(state: GuardiaoState) -> GuardiaoState:\n",
    "    \"\"\"Recebe o input do usuário.\"\"\"\n",
    "    print(\"📥 Recebendo imagem/vídeo via WhatsApp...\")  \n",
    "    return{\n",
    "        **state,\n",
    "        \"media\": b\"<simulated_binary_data>\",\n",
    "        \"tipo\": \"video\"\n",
    "    }\n",
    "\n",
    "def processar_midia(state: GuardiaoState) -> GuardiaoState:\n",
    "    \"\"\"Processa o input recebido.\"\"\"\n",
    "    print(f\"🧪 Processando {state['tipo']}...\")\n",
    "    # Aqui você chamaria um modelo de deepfake detection (ex: HuggingFace, OpenCV, etc)\n",
    "    resultado_falso = random.choice([True, False])\n",
    "    explicacao = \"Rosto inconsistente com movimento labial detectado.\" if resultado_falso else \"Nenhuma manipulação aparente.\"\n",
    "    return {\n",
    "        **state,\n",
    "        \"resultado_analise\": {\n",
    "        \"deepfake_detectado\": resultado_falso,\n",
    "        \"explicacao\": explicacao\n",
    "        }\n",
    "    }\n",
    "\n",
    "def gerar_indice(state: GuardiaoState) -> GuardiaoState:\n",
    "    \"\"\"Gera um índice de confiabilidade.\"\"\"\n",
    "    print(\"📊 Calculando índice de confiabilidade...\")\n",
    "    confianca = random.randint(10,60) if state[\"resultado_analise\"][\"deepfake_detectado\"] else random.randint(80, 100)\n",
    "    indice = random.randint(0, 100)\n",
    "    return {\n",
    "        **state,\n",
    "        \"indice_confiabilidade\": confianca\n",
    "    }\n",
    "\n",
    "def gerar_resposta(state: GuardiaoState) -> GuardiaoState:\n",
    "    \"\"\"Gera a resposta para o usuário.\"\"\"\n",
    "    print(\"📤 Gerando resposta para o usuário...\")\n",
    "    resposta = (\n",
    "        f\"⚠️ Possível manipulação detectada.\\n\"\n",
    "        f\"Índice de confiabilidade: {state['indice_confiabilidade']} / 100\\n\"\n",
    "        f\"Motivo: {state['resultado_analise']['explicacao']}\"\n",
    "        if state[\"indice_confiabilidade\"] < 75\n",
    "        else \"✅ Mídia considerada confiável.\"\n",
    "    )\n",
    "\n",
    "    return {\n",
    "        **state,\n",
    "        \"resposta\": resposta\n",
    "    }\n",
    "    \n",
    "\n"
   ]
  },
  {
   "cell_type": "code",
   "execution_count": null,
   "id": "d7066802",
   "metadata": {},
   "outputs": [
    {
     "name": "stdout",
     "output_type": "stream",
     "text": [
      "📥 Recebendo imagem/vídeo via WhatsApp...\n"
     ]
    },
    {
     "ename": "KeyError",
     "evalue": "'tipo'",
     "output_type": "error",
     "traceback": [
      "\u001b[31m---------------------------------------------------------------------------\u001b[39m",
      "\u001b[31mKeyError\u001b[39m                                  Traceback (most recent call last)",
      "\u001b[36mCell\u001b[39m\u001b[36m \u001b[39m\u001b[32mIn[10]\u001b[39m\u001b[32m, line 24\u001b[39m\n\u001b[32m     21\u001b[39m \u001b[38;5;66;03m# Execução do grafo\u001b[39;00m\n\u001b[32m     22\u001b[39m \u001b[38;5;66;03m# Inicializando o estado com valores padrão\u001b[39;00m\n\u001b[32m     23\u001b[39m estado_inicial = {\u001b[33m\"\u001b[39m\u001b[33mmedia\u001b[39m\u001b[33m\"\u001b[39m: \u001b[33mb\u001b[39m\u001b[33m\"\u001b[39m\u001b[33m<simulated_binary_data>\u001b[39m\u001b[33m\"\u001b[39m, \u001b[33m\"\u001b[39m\u001b[33mtipo\u001b[39m\u001b[33m\"\u001b[39m: \u001b[33m\"\u001b[39m\u001b[33mvideo\u001b[39m\u001b[33m\"\u001b[39m, \u001b[33m\"\u001b[39m\u001b[33mresultado_analise\u001b[39m\u001b[33m\"\u001b[39m: \u001b[38;5;28;01mNone\u001b[39;00m, \u001b[33m\"\u001b[39m\u001b[33mindice_confiabilidade\u001b[39m\u001b[33m\"\u001b[39m: \u001b[38;5;28;01mNone\u001b[39;00m, \u001b[33m\"\u001b[39m\u001b[33mresposta\u001b[39m\u001b[33m\"\u001b[39m: \u001b[38;5;28;01mNone\u001b[39;00m}\n\u001b[32m---> \u001b[39m\u001b[32m24\u001b[39m final_state = \u001b[43mgraph\u001b[49m\u001b[43m.\u001b[49m\u001b[43minvoke\u001b[49m\u001b[43m(\u001b[49m\u001b[43mestado_inicial\u001b[49m\u001b[43m)\u001b[49m\n\u001b[32m     27\u001b[39m \u001b[38;5;66;03m# Exibição do resultado\u001b[39;00m\n\u001b[32m     28\u001b[39m \u001b[38;5;28mprint\u001b[39m(\u001b[33m\"\u001b[39m\u001b[33mResultado final:\u001b[39m\u001b[33m\"\u001b[39m)\n",
      "\u001b[36mFile \u001b[39m\u001b[32mc:\\Users\\Aluno\\Documents\\Guardião Eleitoral\\venv\\Lib\\site-packages\\langgraph\\pregel\\__init__.py:2718\u001b[39m, in \u001b[36mPregel.invoke\u001b[39m\u001b[34m(self, input, config, stream_mode, output_keys, interrupt_before, interrupt_after, checkpoint_during, debug, **kwargs)\u001b[39m\n\u001b[32m   2716\u001b[39m \u001b[38;5;28;01melse\u001b[39;00m:\n\u001b[32m   2717\u001b[39m     chunks = []\n\u001b[32m-> \u001b[39m\u001b[32m2718\u001b[39m \u001b[43m\u001b[49m\u001b[38;5;28;43;01mfor\u001b[39;49;00m\u001b[43m \u001b[49m\u001b[43mchunk\u001b[49m\u001b[43m \u001b[49m\u001b[38;5;129;43;01min\u001b[39;49;00m\u001b[43m \u001b[49m\u001b[38;5;28;43mself\u001b[39;49m\u001b[43m.\u001b[49m\u001b[43mstream\u001b[49m\u001b[43m(\u001b[49m\n\u001b[32m   2719\u001b[39m \u001b[43m    \u001b[49m\u001b[38;5;28;43minput\u001b[39;49m\u001b[43m,\u001b[49m\n\u001b[32m   2720\u001b[39m \u001b[43m    \u001b[49m\u001b[43mconfig\u001b[49m\u001b[43m,\u001b[49m\n\u001b[32m   2721\u001b[39m \u001b[43m    \u001b[49m\u001b[43mstream_mode\u001b[49m\u001b[43m=\u001b[49m\u001b[43mstream_mode\u001b[49m\u001b[43m,\u001b[49m\n\u001b[32m   2722\u001b[39m \u001b[43m    \u001b[49m\u001b[43moutput_keys\u001b[49m\u001b[43m=\u001b[49m\u001b[43moutput_keys\u001b[49m\u001b[43m,\u001b[49m\n\u001b[32m   2723\u001b[39m \u001b[43m    \u001b[49m\u001b[43minterrupt_before\u001b[49m\u001b[43m=\u001b[49m\u001b[43minterrupt_before\u001b[49m\u001b[43m,\u001b[49m\n\u001b[32m   2724\u001b[39m \u001b[43m    \u001b[49m\u001b[43minterrupt_after\u001b[49m\u001b[43m=\u001b[49m\u001b[43minterrupt_after\u001b[49m\u001b[43m,\u001b[49m\n\u001b[32m   2725\u001b[39m \u001b[43m    \u001b[49m\u001b[43mcheckpoint_during\u001b[49m\u001b[43m=\u001b[49m\u001b[43mcheckpoint_during\u001b[49m\u001b[43m,\u001b[49m\n\u001b[32m   2726\u001b[39m \u001b[43m    \u001b[49m\u001b[43mdebug\u001b[49m\u001b[43m=\u001b[49m\u001b[43mdebug\u001b[49m\u001b[43m,\u001b[49m\n\u001b[32m   2727\u001b[39m \u001b[43m    \u001b[49m\u001b[43m*\u001b[49m\u001b[43m*\u001b[49m\u001b[43mkwargs\u001b[49m\u001b[43m,\u001b[49m\n\u001b[32m   2728\u001b[39m \u001b[43m\u001b[49m\u001b[43m)\u001b[49m\u001b[43m:\u001b[49m\n\u001b[32m   2729\u001b[39m \u001b[43m    \u001b[49m\u001b[38;5;28;43;01mif\u001b[39;49;00m\u001b[43m \u001b[49m\u001b[43mstream_mode\u001b[49m\u001b[43m \u001b[49m\u001b[43m==\u001b[49m\u001b[43m \u001b[49m\u001b[33;43m\"\u001b[39;49m\u001b[33;43mvalues\u001b[39;49m\u001b[33;43m\"\u001b[39;49m\u001b[43m:\u001b[49m\n\u001b[32m   2730\u001b[39m \u001b[43m        \u001b[49m\u001b[43mlatest\u001b[49m\u001b[43m \u001b[49m\u001b[43m=\u001b[49m\u001b[43m \u001b[49m\u001b[43mchunk\u001b[49m\n",
      "\u001b[36mFile \u001b[39m\u001b[32mc:\\Users\\Aluno\\Documents\\Guardião Eleitoral\\venv\\Lib\\site-packages\\langgraph\\pregel\\__init__.py:2356\u001b[39m, in \u001b[36mPregel.stream\u001b[39m\u001b[34m(self, input, config, stream_mode, output_keys, interrupt_before, interrupt_after, checkpoint_during, debug, subgraphs)\u001b[39m\n\u001b[32m   2350\u001b[39m     \u001b[38;5;66;03m# Similarly to Bulk Synchronous Parallel / Pregel model\u001b[39;00m\n\u001b[32m   2351\u001b[39m     \u001b[38;5;66;03m# computation proceeds in steps, while there are channel updates.\u001b[39;00m\n\u001b[32m   2352\u001b[39m     \u001b[38;5;66;03m# Channel updates from step N are only visible in step N+1\u001b[39;00m\n\u001b[32m   2353\u001b[39m     \u001b[38;5;66;03m# channels are guaranteed to be immutable for the duration of the step,\u001b[39;00m\n\u001b[32m   2354\u001b[39m     \u001b[38;5;66;03m# with channel updates applied only at the transition between steps.\u001b[39;00m\n\u001b[32m   2355\u001b[39m     \u001b[38;5;28;01mwhile\u001b[39;00m loop.tick(input_keys=\u001b[38;5;28mself\u001b[39m.input_channels):\n\u001b[32m-> \u001b[39m\u001b[32m2356\u001b[39m \u001b[43m        \u001b[49m\u001b[38;5;28;43;01mfor\u001b[39;49;00m\u001b[43m \u001b[49m\u001b[43m_\u001b[49m\u001b[43m \u001b[49m\u001b[38;5;129;43;01min\u001b[39;49;00m\u001b[43m \u001b[49m\u001b[43mrunner\u001b[49m\u001b[43m.\u001b[49m\u001b[43mtick\u001b[49m\u001b[43m(\u001b[49m\n\u001b[32m   2357\u001b[39m \u001b[43m            \u001b[49m\u001b[43mloop\u001b[49m\u001b[43m.\u001b[49m\u001b[43mtasks\u001b[49m\u001b[43m.\u001b[49m\u001b[43mvalues\u001b[49m\u001b[43m(\u001b[49m\u001b[43m)\u001b[49m\u001b[43m,\u001b[49m\n\u001b[32m   2358\u001b[39m \u001b[43m            \u001b[49m\u001b[43mtimeout\u001b[49m\u001b[43m=\u001b[49m\u001b[38;5;28;43mself\u001b[39;49m\u001b[43m.\u001b[49m\u001b[43mstep_timeout\u001b[49m\u001b[43m,\u001b[49m\n\u001b[32m   2359\u001b[39m \u001b[43m            \u001b[49m\u001b[43mretry_policy\u001b[49m\u001b[43m=\u001b[49m\u001b[38;5;28;43mself\u001b[39;49m\u001b[43m.\u001b[49m\u001b[43mretry_policy\u001b[49m\u001b[43m,\u001b[49m\n\u001b[32m   2360\u001b[39m \u001b[43m            \u001b[49m\u001b[43mget_waiter\u001b[49m\u001b[43m=\u001b[49m\u001b[43mget_waiter\u001b[49m\u001b[43m,\u001b[49m\n\u001b[32m   2361\u001b[39m \u001b[43m        \u001b[49m\u001b[43m)\u001b[49m\u001b[43m:\u001b[49m\n\u001b[32m   2362\u001b[39m \u001b[43m            \u001b[49m\u001b[38;5;66;43;03m# emit output\u001b[39;49;00m\n\u001b[32m   2363\u001b[39m \u001b[43m            \u001b[49m\u001b[38;5;28;43;01myield from\u001b[39;49;00m\u001b[43m \u001b[49m\u001b[43moutput\u001b[49m\u001b[43m(\u001b[49m\u001b[43m)\u001b[49m\n\u001b[32m   2364\u001b[39m \u001b[38;5;66;03m# emit output\u001b[39;00m\n",
      "\u001b[36mFile \u001b[39m\u001b[32mc:\\Users\\Aluno\\Documents\\Guardião Eleitoral\\venv\\Lib\\site-packages\\langgraph\\pregel\\runner.py:158\u001b[39m, in \u001b[36mPregelRunner.tick\u001b[39m\u001b[34m(self, tasks, reraise, timeout, retry_policy, get_waiter)\u001b[39m\n\u001b[32m    156\u001b[39m t = tasks[\u001b[32m0\u001b[39m]\n\u001b[32m    157\u001b[39m \u001b[38;5;28;01mtry\u001b[39;00m:\n\u001b[32m--> \u001b[39m\u001b[32m158\u001b[39m     \u001b[43mrun_with_retry\u001b[49m\u001b[43m(\u001b[49m\n\u001b[32m    159\u001b[39m \u001b[43m        \u001b[49m\u001b[43mt\u001b[49m\u001b[43m,\u001b[49m\n\u001b[32m    160\u001b[39m \u001b[43m        \u001b[49m\u001b[43mretry_policy\u001b[49m\u001b[43m,\u001b[49m\n\u001b[32m    161\u001b[39m \u001b[43m        \u001b[49m\u001b[43mconfigurable\u001b[49m\u001b[43m=\u001b[49m\u001b[43m{\u001b[49m\n\u001b[32m    162\u001b[39m \u001b[43m            \u001b[49m\u001b[43mCONFIG_KEY_CALL\u001b[49m\u001b[43m:\u001b[49m\u001b[43m \u001b[49m\u001b[43mpartial\u001b[49m\u001b[43m(\u001b[49m\n\u001b[32m    163\u001b[39m \u001b[43m                \u001b[49m\u001b[43m_call\u001b[49m\u001b[43m,\u001b[49m\n\u001b[32m    164\u001b[39m \u001b[43m                \u001b[49m\u001b[43mweakref\u001b[49m\u001b[43m.\u001b[49m\u001b[43mref\u001b[49m\u001b[43m(\u001b[49m\u001b[43mt\u001b[49m\u001b[43m)\u001b[49m\u001b[43m,\u001b[49m\n\u001b[32m    165\u001b[39m \u001b[43m                \u001b[49m\u001b[43mretry\u001b[49m\u001b[43m=\u001b[49m\u001b[43mretry_policy\u001b[49m\u001b[43m,\u001b[49m\n\u001b[32m    166\u001b[39m \u001b[43m                \u001b[49m\u001b[43mfutures\u001b[49m\u001b[43m=\u001b[49m\u001b[43mweakref\u001b[49m\u001b[43m.\u001b[49m\u001b[43mref\u001b[49m\u001b[43m(\u001b[49m\u001b[43mfutures\u001b[49m\u001b[43m)\u001b[49m\u001b[43m,\u001b[49m\n\u001b[32m    167\u001b[39m \u001b[43m                \u001b[49m\u001b[43mschedule_task\u001b[49m\u001b[43m=\u001b[49m\u001b[38;5;28;43mself\u001b[39;49m\u001b[43m.\u001b[49m\u001b[43mschedule_task\u001b[49m\u001b[43m,\u001b[49m\n\u001b[32m    168\u001b[39m \u001b[43m                \u001b[49m\u001b[43msubmit\u001b[49m\u001b[43m=\u001b[49m\u001b[38;5;28;43mself\u001b[39;49m\u001b[43m.\u001b[49m\u001b[43msubmit\u001b[49m\u001b[43m,\u001b[49m\n\u001b[32m    169\u001b[39m \u001b[43m                \u001b[49m\u001b[43mreraise\u001b[49m\u001b[43m=\u001b[49m\u001b[43mreraise\u001b[49m\u001b[43m,\u001b[49m\n\u001b[32m    170\u001b[39m \u001b[43m            \u001b[49m\u001b[43m)\u001b[49m\u001b[43m,\u001b[49m\n\u001b[32m    171\u001b[39m \u001b[43m        \u001b[49m\u001b[43m}\u001b[49m\u001b[43m,\u001b[49m\n\u001b[32m    172\u001b[39m \u001b[43m    \u001b[49m\u001b[43m)\u001b[49m\n\u001b[32m    173\u001b[39m     \u001b[38;5;28mself\u001b[39m.commit(t, \u001b[38;5;28;01mNone\u001b[39;00m)\n\u001b[32m    174\u001b[39m \u001b[38;5;28;01mexcept\u001b[39;00m \u001b[38;5;167;01mException\u001b[39;00m \u001b[38;5;28;01mas\u001b[39;00m exc:\n",
      "\u001b[36mFile \u001b[39m\u001b[32mc:\\Users\\Aluno\\Documents\\Guardião Eleitoral\\venv\\Lib\\site-packages\\langgraph\\pregel\\retry.py:39\u001b[39m, in \u001b[36mrun_with_retry\u001b[39m\u001b[34m(task, retry_policy, configurable)\u001b[39m\n\u001b[32m     37\u001b[39m     task.writes.clear()\n\u001b[32m     38\u001b[39m     \u001b[38;5;66;03m# run the task\u001b[39;00m\n\u001b[32m---> \u001b[39m\u001b[32m39\u001b[39m     \u001b[38;5;28;01mreturn\u001b[39;00m \u001b[43mtask\u001b[49m\u001b[43m.\u001b[49m\u001b[43mproc\u001b[49m\u001b[43m.\u001b[49m\u001b[43minvoke\u001b[49m\u001b[43m(\u001b[49m\u001b[43mtask\u001b[49m\u001b[43m.\u001b[49m\u001b[43minput\u001b[49m\u001b[43m,\u001b[49m\u001b[43m \u001b[49m\u001b[43mconfig\u001b[49m\u001b[43m)\u001b[49m\n\u001b[32m     40\u001b[39m \u001b[38;5;28;01mexcept\u001b[39;00m ParentCommand \u001b[38;5;28;01mas\u001b[39;00m exc:\n\u001b[32m     41\u001b[39m     ns: \u001b[38;5;28mstr\u001b[39m = config[CONF][CONFIG_KEY_CHECKPOINT_NS]\n",
      "\u001b[36mFile \u001b[39m\u001b[32mc:\\Users\\Aluno\\Documents\\Guardião Eleitoral\\venv\\Lib\\site-packages\\langgraph\\utils\\runnable.py:622\u001b[39m, in \u001b[36mRunnableSeq.invoke\u001b[39m\u001b[34m(self, input, config, **kwargs)\u001b[39m\n\u001b[32m    620\u001b[39m     \u001b[38;5;66;03m# run in context\u001b[39;00m\n\u001b[32m    621\u001b[39m     \u001b[38;5;28;01mwith\u001b[39;00m set_config_context(config, run) \u001b[38;5;28;01mas\u001b[39;00m context:\n\u001b[32m--> \u001b[39m\u001b[32m622\u001b[39m         \u001b[38;5;28minput\u001b[39m = \u001b[43mcontext\u001b[49m\u001b[43m.\u001b[49m\u001b[43mrun\u001b[49m\u001b[43m(\u001b[49m\u001b[43mstep\u001b[49m\u001b[43m.\u001b[49m\u001b[43minvoke\u001b[49m\u001b[43m,\u001b[49m\u001b[43m \u001b[49m\u001b[38;5;28;43minput\u001b[39;49m\u001b[43m,\u001b[49m\u001b[43m \u001b[49m\u001b[43mconfig\u001b[49m\u001b[43m,\u001b[49m\u001b[43m \u001b[49m\u001b[43m*\u001b[49m\u001b[43m*\u001b[49m\u001b[43mkwargs\u001b[49m\u001b[43m)\u001b[49m\n\u001b[32m    623\u001b[39m \u001b[38;5;28;01melse\u001b[39;00m:\n\u001b[32m    624\u001b[39m     \u001b[38;5;28minput\u001b[39m = step.invoke(\u001b[38;5;28minput\u001b[39m, config)\n",
      "\u001b[36mFile \u001b[39m\u001b[32mc:\\Users\\Aluno\\Documents\\Guardião Eleitoral\\venv\\Lib\\site-packages\\langgraph\\utils\\runnable.py:376\u001b[39m, in \u001b[36mRunnableCallable.invoke\u001b[39m\u001b[34m(self, input, config, **kwargs)\u001b[39m\n\u001b[32m    374\u001b[39m         run_manager.on_chain_end(ret)\n\u001b[32m    375\u001b[39m \u001b[38;5;28;01melse\u001b[39;00m:\n\u001b[32m--> \u001b[39m\u001b[32m376\u001b[39m     ret = \u001b[38;5;28;43mself\u001b[39;49m\u001b[43m.\u001b[49m\u001b[43mfunc\u001b[49m\u001b[43m(\u001b[49m\u001b[43m*\u001b[49m\u001b[43margs\u001b[49m\u001b[43m,\u001b[49m\u001b[43m \u001b[49m\u001b[43m*\u001b[49m\u001b[43m*\u001b[49m\u001b[43mkwargs\u001b[49m\u001b[43m)\u001b[49m\n\u001b[32m    377\u001b[39m \u001b[38;5;28;01mif\u001b[39;00m \u001b[38;5;28mself\u001b[39m.recurse \u001b[38;5;129;01mand\u001b[39;00m \u001b[38;5;28misinstance\u001b[39m(ret, Runnable):\n\u001b[32m    378\u001b[39m     \u001b[38;5;28;01mreturn\u001b[39;00m ret.invoke(\u001b[38;5;28minput\u001b[39m, config)\n",
      "\u001b[36mCell\u001b[39m\u001b[36m \u001b[39m\u001b[32mIn[2]\u001b[39m\u001b[32m, line 26\u001b[39m, in \u001b[36mprocessar_media\u001b[39m\u001b[34m(state)\u001b[39m\n\u001b[32m     24\u001b[39m \u001b[38;5;28;01mdef\u001b[39;00m\u001b[38;5;250m \u001b[39m\u001b[34mprocessar_media\u001b[39m(state: GuardiaoState) -> GuardiaoState:\n\u001b[32m     25\u001b[39m \u001b[38;5;250m    \u001b[39m\u001b[33;03m\"\"\"Processa o input recebido.\"\"\"\u001b[39;00m\n\u001b[32m---> \u001b[39m\u001b[32m26\u001b[39m     \u001b[38;5;28mprint\u001b[39m(\u001b[33mf\u001b[39m\u001b[33m\"\u001b[39m\u001b[33m🧪 Processando \u001b[39m\u001b[38;5;132;01m{\u001b[39;00m\u001b[43mstate\u001b[49m\u001b[43m[\u001b[49m\u001b[33;43m'\u001b[39;49m\u001b[33;43mtipo\u001b[39;49m\u001b[33;43m'\u001b[39;49m\u001b[43m]\u001b[49m\u001b[38;5;132;01m}\u001b[39;00m\u001b[33m...\u001b[39m\u001b[33m\"\u001b[39m)\n\u001b[32m     27\u001b[39m     \u001b[38;5;66;03m# Aqui você chamaria um modelo de deepfake detection (ex: HuggingFace, OpenCV, etc)\u001b[39;00m\n\u001b[32m     28\u001b[39m     resultado_falso = random.choice([\u001b[38;5;28;01mTrue\u001b[39;00m, \u001b[38;5;28;01mFalse\u001b[39;00m])\n",
      "\u001b[31mKeyError\u001b[39m: 'tipo'",
      "During task with name 'processar_media' and id '62a8a8c3-290f-6d2f-759f-62249962d0f4'"
     ]
    }
   ],
   "source": [
    "# Construção do grafo\n",
    "\n",
    "workflow = StateGraph(GuardiaoState)\n",
    "\n",
    "workflow.add_node(\"receber_input\", receber_input)\n",
    "workflow.add_node(\"processar_midia\", processar_midia)\n",
    "workflow.add_node(\"gerar_indice\", gerar_indice)\n",
    "workflow.add_node(\"gerar_resposta\", gerar_resposta)\n",
    "\n",
    "workflow.set_entry_point(\"receber_input\")\n",
    "\n",
    "\n",
    "workflow.add_edge(\"receber_input\", \"processar_media\")\n",
    "workflow.add_edge(\"processar_media\", \"gerar_indice\")\n",
    "workflow.add_edge(\"gerar_indice\", \"gerar_resposta\")\n",
    "workflow.add_edge(\"gerar_resposta\", END)\n",
    "\n",
    "graph = workflow.compile()\n",
    "\n",
    "# Execução do grafo\n",
    "estado_inicial = {}\n",
    "final_state = graph.invoke(estado_inicial)\n",
    "\n",
    "\n",
    "# Exibição do resultado\n",
    "print(\"Resultado final:\")\n",
    "print(final_state[\"resposta\"])"
   ]
  },
  {
   "cell_type": "markdown",
   "id": "49edadf4",
   "metadata": {},
   "source": [
    "## Próximos passos"
   ]
  },
  {
   "cell_type": "code",
   "execution_count": null,
   "id": "9686bf24",
   "metadata": {},
   "outputs": [],
   "source": [
    "Card 1: Definição de Escopo\n",
    "Monitorar exclusivamente mensagens de WhatsApp (via API: Twilio, Z‑API, Gupshup etc.).\n",
    "Conteúdo alvo: imagens e vídeos.\n",
    "Sinal de desinformação: deepfakes (rostos trocados, vozes sintetizadas, adulterações).\n",
    "Output principal: índice de confiabilidade de 0 a 100.\n",
    "\n",
    "Card 2: Coleta de Dados (Ingestão)\n",
    "Configurar e autenticar bot/API do WhatsApp.\n",
    "Receber mídia (imagens/vídeos) em um endpoint HTTP.\n",
    "Armazenar temporariamente os arquivos num bucket ou diretório local.\n",
    "Disparar evento para o pipeline de análise.\n",
    "\n",
    "Card 3: Pré‑processamento de Mídia\n",
    "Vídeo: extrair frames-chave (e.g. 1 frame a cada X segundos).\n",
    "Imagem: redimensionar / normalizar resolução.\n",
    "(Opcional) Extrair áudio se for detectar voz sintética.\n",
    "\n",
    "Card 4: Detecção de Deepfake\n",
    "Integrar modelo pré‑treinado (ex.: HuggingFace deepfake-detection, FaceForensics++).\n",
    "Rodar inferência em cada frame/imagem: obter probabilidade de manipulação.\n",
    "Agregar resultados por vídeo (e.g. média ou percentil de “suspeita”).\n",
    "\n",
    "Card 5: Geração do Índice de Confiabilidade\n",
    "Converter a probabilidade de deepfake num score de 0–100:\n",
    "Exemplo: índice = 100 – int(probabilidade_deepfake * 100).\n",
    "Definir thresholds (ex.: < 75 alerta, >= 75 confiável).\n",
    "Registrar explicação resumida (e.g. “inconsistências nos lábios”).\n",
    "\n",
    "Card 6: Resposta ao Usuário\n",
    "Formatar mensagem de retorno via WhatsApp:\n",
    "“⚠️ Vídeo suspeito. Índice: 22/100. Motivo: inconsistência nos lábios.”\n",
    "“✅ Mídia confiável. Índice: 92/100.”\n",
    "(Futuro) Extensão para X/Twitter com alertas semelhantes.\n",
    "\n",
    "Card 7: Modo Educativo(opcional)\n",
    "Criar fluxo opcional de quizzes rápidos:\n",
    "Bot pergunta: “O que você observa neste frame adulterado?”\n",
    "Feedback imediato com dicas de checagem de deepfake.\n",
    "Agendar envios periódicos (catalogar por temas: rosto, áudio, metadata).\n",
    "\n",
    "Card 8: Infraestrutura & Deploy(opcional)\n",
    "Dockerizar cada componente (ingestão, pré-processamento, inferência, bot).\n",
    "Orquestrar com Kubernetes / Docker Compose / LangGraph.\n",
    "Monitorar logs e métricas (latência, taxa de falsos positivos).\n",
    "Planejar credenciais e segurança (tokens das APIs, rate limits).\n",
    "\n",
    "Card 9: Cronograma de 2 Semanas\n",
    "\n",
    "Semana\tPrincipais Entregas\n",
    "1 (dias 1–4)\tMVP local: upload manual + detecção + índice\n",
    "1 (dias 5–7)\tOrquestração com LangGraph + testes end‑to‑end\n",
    "2 (dias 1–3)\tIntegração com WhatsApp bot (Twilio/Z‑API)\n",
    "2 (dias 4–5)\tAjustes de UX do bot e implementação do modo educativo\n",
    "2 (dias 6–7)\tPolimento, documentação e apresentação final"
   ]
  },
  {
   "cell_type": "code",
   "execution_count": 43,
   "id": "0886dcce",
   "metadata": {},
   "outputs": [
    {
     "name": "stdout",
     "output_type": "stream",
     "text": [
      "{\"zaapId\":\"3E050A6445AB80D119BCB209F567E51C\",\"messageId\":\"3EB0FED93C9DFC93563C63\",\"id\":\"3EB0FED93C9DFC93563C63\"}\n"
     ]
    }
   ],
   "source": [
    "# Exemplo de enviar Imagem utilizando Z-Api\n",
    "\n",
    "import requests\n",
    "\n",
    "url = \"https://api.z-api.io/instances/3E04FE2FFF3780EE584A02121E6AE94B/token/B4671208BBF614A2D90F157F/send-image\"\n",
    "\n",
    "payload = {\n",
    "    \"phone\": \"5516994420645\",\n",
    "    \"image\": \"https://t.ctcdn.com.br/lvns56iaSMyHvyTur4JeYS_NYeY=/i606944.png\"\n",
    "}\n",
    "\n",
    "headers = {'client-token': 'F51db6f26c0c94bbeb6131a2f18ca0638S',}\n",
    "\n",
    "response = requests.post(url, headers=headers, json=payload)\n",
    "\n",
    "\n",
    "print(response.text)"
   ]
  },
  {
   "cell_type": "code",
   "execution_count": 41,
   "id": "d44debf2",
   "metadata": {},
   "outputs": [
    {
     "name": "stdout",
     "output_type": "stream",
     "text": [
      "{\"zaapId\":\"3E05089EA56F60CC2C600AC1BE50C986\",\"messageId\":\"3EB0BCB95C04C3F4BD5A20\",\"id\":\"3EB0BCB95C04C3F4BD5A20\"}\n"
     ]
    }
   ],
   "source": [
    "# Exemplo de enviar Video utilizando Z-Api\n",
    "\n",
    "import requests\n",
    "\n",
    "url = \"https://api.z-api.io/instances/3E04FE2FFF3780EE584A02121E6AE94B/token/B4671208BBF614A2D90F157F/send-video\"\n",
    "\n",
    "payload = {\n",
    "    \"phone\": \"5585982317976\",\n",
    "    \"video\": \"https://files.catbox.moe/bbtrfk.mp4\"\n",
    "}\n",
    "\n",
    "headers = {'client-token': 'F51db6f26c0c94bbeb6131a2f18ca0638S', \n",
    "           'Content-Type': 'application/json'}\n",
    "\n",
    "response = requests.post(url, headers=headers, json=payload)\n",
    "\n",
    "\n",
    "print(response.text)"
   ]
  },
  {
   "cell_type": "code",
   "execution_count": null,
   "id": "671250c7",
   "metadata": {},
   "outputs": [],
   "source": []
  },
  {
   "cell_type": "code",
   "execution_count": null,
   "id": "13deaf2c",
   "metadata": {},
   "outputs": [],
   "source": []
  }
 ],
 "metadata": {
  "kernelspec": {
   "display_name": "guardiao",
   "language": "python",
   "name": "python3"
  },
  "language_info": {
   "codemirror_mode": {
    "name": "ipython",
    "version": 3
   },
   "file_extension": ".py",
   "mimetype": "text/x-python",
   "name": "python",
   "nbconvert_exporter": "python",
   "pygments_lexer": "ipython3",
   "version": "3.12.3"
  }
 },
 "nbformat": 4,
 "nbformat_minor": 5
}
